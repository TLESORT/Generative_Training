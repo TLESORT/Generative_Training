{
 "cells": [
  {
   "cell_type": "code",
   "execution_count": null,
   "metadata": {
    "collapsed": true
   },
   "outputs": [],
   "source": [
    "# This Notebook train 10 VAE to generate each a digit, then train a classifieur to solve mnist only with the VAEs. : result 95% accuracy without much finetuning"
   ]
  },
  {
   "cell_type": "code",
   "execution_count": 1,
   "metadata": {
    "collapsed": true
   },
   "outputs": [],
   "source": [
    "%matplotlib inline\n",
    "\n",
    "from __future__ import print_function\n",
    "import argparse\n",
    "import torch\n",
    "import torch.utils.data\n",
    "import torch.nn as nn\n",
    "import torch.nn.functional as F\n",
    "import torch.optim as optim\n",
    "import numpy as np\n",
    "from torch.autograd import Variable\n",
    "from torchvision import datasets, transforms\n",
    "import torchvision\n",
    "\n",
    "from torch.utils import data\n",
    "import matplotlib.pyplot as plt"
   ]
  },
  {
   "cell_type": "code",
   "execution_count": 2,
   "metadata": {
    "collapsed": true
   },
   "outputs": [],
   "source": [
    "cuda =  torch.cuda.is_available()\n",
    "batch_size=128\n",
    "log_interval=100\n",
    "epochs=10\n",
    "seed=1\n",
    "\n",
    "\n",
    "torch.manual_seed(seed)\n",
    "torch.cuda.manual_seed(seed)"
   ]
  },
  {
   "cell_type": "code",
   "execution_count": 3,
   "metadata": {
    "collapsed": true
   },
   "outputs": [],
   "source": [
    "class Classif(nn.Module):\n",
    "    def __init__(self):\n",
    "        super(Classif, self).__init__()\n",
    "\n",
    "        self.fc1 = nn.Linear(3*1024, 400)\n",
    "        self.fc2 = nn.Linear(400, 100)\n",
    "        self.fc3 = nn.Linear(100, 10)\n",
    "\n",
    "        self.relu = nn.ReLU()\n",
    "        self.sigmoid = nn.Sigmoid()\n",
    "    \n",
    "    def classif(self, x):\n",
    "        h1 = self.relu(self.fc1(x))\n",
    "        h2 = self.relu(self.fc2(h1))\n",
    "        return F.log_softmax(self.fc3(h2))\n",
    "\n",
    "\n",
    "    def forward(self, x):\n",
    "        return self.classif(x.view(-1, 3*1024))"
   ]
  },
  {
   "cell_type": "code",
   "execution_count": 4,
   "metadata": {
    "collapsed": true
   },
   "outputs": [],
   "source": [
    "class VAE(nn.Module):\n",
    "    def __init__(self):\n",
    "        super(VAE, self).__init__()\n",
    "\n",
    "        self.fc1 = nn.Linear(3*1024, 400)\n",
    "        self.fc21 = nn.Linear(400, 20)\n",
    "        self.fc22 = nn.Linear(400, 20)\n",
    "        self.fc3 = nn.Linear(20, 400)\n",
    "        self.fc4 = nn.Linear(400, 3*1024)\n",
    "        \n",
    "        self.fc5 = nn.Linear(20, 400) #can eventually share parameters with fc3\n",
    "        self.fc6 = nn.Linear(400, 10)\n",
    "\n",
    "        self.relu = nn.ReLU()\n",
    "        self.sigmoid = nn.Sigmoid()\n",
    "    \n",
    "    def classif(self, z):\n",
    "        h4 = self.relu(self.fc5(z))\n",
    "        return F.log_softmax(self.fc6(h4))\n",
    "\n",
    "    def encode(self, x):\n",
    "        h1 = self.relu(self.fc1(x))\n",
    "        return self.fc21(h1), self.fc22(h1)\n",
    "\n",
    "    def reparametrize(self, mu, logvar):\n",
    "        std = logvar.mul(0.5).exp_()\n",
    "        if cuda:\n",
    "            eps = torch.cuda.FloatTensor(std.size()).normal_()\n",
    "        else:\n",
    "            eps = torch.FloatTensor(std.size()).normal_()\n",
    "        eps = Variable(eps)\n",
    "        return eps.mul(std).add_(mu)\n",
    "\n",
    "    def decode(self, z):\n",
    "        h3 = self.relu(self.fc3(z))\n",
    "        return self.sigmoid(self.fc4(h3))\n",
    "\n",
    "    def forward(self, x):\n",
    "        mu, logvar = self.encode(x.view(-1, 3*1024))\n",
    "        z = self.reparametrize(mu, logvar)\n",
    "        return self.decode(z), mu, logvar"
   ]
  },
  {
   "cell_type": "code",
   "execution_count": 5,
   "metadata": {
    "collapsed": true
   },
   "outputs": [],
   "source": [
    "def loss_function(recon_x, x, mu, logvar):\n",
    "    BCE = reconstruction_function(recon_x, x)\n",
    "\n",
    "    # see Appendix B from VAE paper:\n",
    "    # Kingma and Welling. Auto-Encoding Variational Bayes. ICLR, 2014\n",
    "    # https://arxiv.org/abs/1312.6114\n",
    "    # 0.5 * sum(1 + log(sigma^2) - mu^2 - sigma^2)\n",
    "    KLD_element = mu.pow(2).add_(logvar.exp()).mul_(-1).add_(1).add_(logvar)\n",
    "    KLD = torch.sum(KLD_element).mul_(-0.5)\n",
    "\n",
    "    return BCE + KLD"
   ]
  },
  {
   "cell_type": "code",
   "execution_count": 6,
   "metadata": {
    "collapsed": true
   },
   "outputs": [],
   "source": [
    "def get_list_batch():\n",
    "    list_digits=[[],[],[],[],[],[],[],[],[],[]]\n",
    "    for batch_idx, (data, target) in enumerate(train_loader):\n",
    "        batch_size=len(target)\n",
    "        for i in range(batch_size):\n",
    "            #list_digits[target[i]].append(batch_idx*batch_size+i)\n",
    "            list_digits[target[i]].append(data[i])\n",
    "    return list_digits\n",
    "\n",
    "def get_batch(list_digits, digit, batch_size):\n",
    "    liste=list_digits[digit]\n",
    "    size_list=len(liste)\n",
    "    plt.imshow(liste[0].numpy()[0])\n",
    "    batch=np.zeros((batch_size,3,32,32))\n",
    "    for i in range(batch_size):\n",
    "        indice=np.random.randint(0, size_list)\n",
    "        batch[i]=liste[indice].numpy()\n",
    "    return batch"
   ]
  },
  {
   "cell_type": "code",
   "execution_count": 7,
   "metadata": {
    "collapsed": true
   },
   "outputs": [],
   "source": [
    "def add_memories(epoch,data, target):\n",
    "    mem_size=int(batch_size*epoch/(epochs*2))\n",
    "    data_mem, label_mem=get_memories(mem_size)\n",
    "    data[batch_size-mem_size:]=data_mem\n",
    "    target[batch_size-mem_size:]=label_mem\n",
    "    #target_discr[batch_size-mem_size:]=torch.zeros(mem_size)\n",
    "    return data, target\n",
    "    \n",
    "def get_memories(size):\n",
    "    data=np.zeros((size,3,32,32))\n",
    "    target=np.zeros((size))\n",
    "    for i in range(size):\n",
    "        hidden_vector=torch.randn((1,20))\n",
    "        hidden_vector=Variable(hidden_vector.cuda())\n",
    "        \n",
    "        classif=model.classif(hidden_vector)\n",
    "        target[i]=int(classif.data.max(1)[1].cpu().numpy())\n",
    "        data[i]=model.decode(hidden_vector).data.cpu().numpy().reshape(3,32,32)\n",
    "        return torch.from_numpy(data), torch.from_numpy(target)"
   ]
  },
  {
   "cell_type": "code",
   "execution_count": 8,
   "metadata": {
    "collapsed": true
   },
   "outputs": [],
   "source": [
    "def train(epoch):\n",
    "    size_epoch=2000\n",
    "    model.train()\n",
    "    train_loss = 0\n",
    "    train_loss_classif = 0\n",
    "    digit=(epoch-1)%10\n",
    "    target = Variable(torch.LongTensor(batch_size).fill_(digit))\n",
    "\n",
    "    for batch_idx in range(size_epoch):\n",
    "        data=get_batch(list_digits, digit, batch_size)\n",
    "        data=torch.FloatTensor(data)\n",
    "        if epoch>1:\n",
    "            data, target =add_memories(epoch,data, target)\n",
    "        data = Variable(data)\n",
    "        if cuda:\n",
    "            data = data.cuda()\n",
    "            target = target.cuda()\n",
    "        optimizer.zero_grad()\n",
    "        # VAE\n",
    "        recon_batch, mu, logvar = model(data)\n",
    "        \n",
    "        loss = loss_function(recon_batch, data, mu, logvar)\n",
    "        loss.backward(retain_variables=True)\n",
    "        train_loss += loss.data[0]\n",
    "\n",
    "        optimizer.step()\n",
    "\n",
    "        if batch_idx % log_interval == 0:\n",
    "            print('Train Epoch: {} [{}/{} ({:.0f}%)]\\tLoss: {:.6f}'.format(\n",
    "                epoch, batch_idx * len(data), size_epoch,\n",
    "                100. * batch_idx / size_epoch,\n",
    "                loss.data[0] / len(data)))\n",
    "    print('====> Epoch: {} Average loss: {:.4f}'.format(\n",
    "          epoch, train_loss / size_epoch))\n",
    "    print('====> Epoch: {} Average loss classif: {:.4f}'.format(\n",
    "          epoch, train_loss_classif / size_epoch))\n",
    "    \n",
    "    \n",
    "def test(epoch):\n",
    "    model_classif.eval()\n",
    "    test_loss = 0\n",
    "    test_loss_classif = 0\n",
    "    correct = 0\n",
    "    for data, target in test_loader:\n",
    "        if cuda:\n",
    "            data = data.cuda()\n",
    "            target = target.cuda()\n",
    "        data = Variable(data, volatile=True)\n",
    "        target = Variable(target, volatile=True)\n",
    "        #recon_batch, classif, mu, logvar = model_classif(data)\n",
    "        classif = model_classif(data)\n",
    "        #test_loss += loss_function(recon_batch, data, mu, logvar).data[0]\n",
    "        \n",
    "        \n",
    "        test_loss_classif  += F.nll_loss(classif, target, size_average=False).data[0] # sum up batch loss\n",
    "        pred = classif.data.max(1)[1] # get the index of the max log-probability\n",
    "        correct += pred.eq(target.data).cpu().sum()\n",
    "\n",
    "    test_loss /= len(test_loader.dataset)\n",
    "    print('====> Test set loss: {:.4f}'.format(test_loss))\n",
    "    print('\\nTest set: Average loss: {:.4f}, Accuracy: {}/{} ({:.0f}%)\\n'.format(\n",
    "        test_loss_classif , correct, len(test_loader.dataset),100. * correct / len(test_loader.dataset)))"
   ]
  },
  {
   "cell_type": "code",
   "execution_count": 9,
   "metadata": {},
   "outputs": [
    {
     "name": "stdout",
     "output_type": "stream",
     "text": [
      "Files already downloaded and verified\n",
      "Files already downloaded and verified\n"
     ]
    }
   ],
   "source": [
    "kwargs = {'num_workers': 1, 'pin_memory': True} if cuda else {}\n",
    "\n",
    "\n",
    "transform_train = transforms.Compose([\n",
    "    #transforms.RandomCrop(32, padding=4),\n",
    "    #transforms.RandomHorizontalFlip(),\n",
    "    transforms.ToTensor(),\n",
    "    transforms.Normalize((0.4914, 0.4822, 0.4465), (0.2023, 0.1994, 0.2010)),\n",
    "])\n",
    "\n",
    "transform_test = transforms.Compose([\n",
    "    transforms.ToTensor(),\n",
    "    transforms.Normalize((0.4914, 0.4822, 0.4465), (0.2023, 0.1994, 0.2010)),\n",
    "])\n",
    "\n",
    "trainset = torchvision.datasets.CIFAR10(root='./data_cifar10', train=True, download=True, transform=transform_train)\n",
    "train_loader = torch.utils.data.DataLoader(trainset, batch_size=128, shuffle=True, num_workers=2)\n",
    "\n",
    "testset = torchvision.datasets.CIFAR10(root='./data_cifar10', train=False, download=True, transform=transform_test)\n",
    "test_loader = torch.utils.data.DataLoader(testset, batch_size=100, shuffle=False, num_workers=2)\n",
    "\n",
    "classes = ('plane', 'car', 'bird', 'cat', 'deer', 'dog', 'frog', 'horse', 'ship', 'truck')\n",
    "\n",
    "model = VAE()\n",
    "if cuda:\n",
    "    model.cuda()\n",
    "\n",
    "list_digits=get_list_batch()\n",
    "reconstruction_function = nn.BCELoss()\n",
    "reconstruction_function.size_average = False\n",
    "optimizer = optim.Adam(model.parameters(), lr=1e-3)\n",
    "\n"
   ]
  },
  {
   "cell_type": "markdown",
   "metadata": {},
   "source": [
    "## Print some image"
   ]
  },
  {
   "cell_type": "code",
   "execution_count": 41,
   "metadata": {},
   "outputs": [
    {
     "name": "stdout",
     "output_type": "stream",
     "text": [
      "torch.Size([128, 3, 32, 32])\n",
      "(3, 32, 32)\n"
     ]
    },
    {
     "data": {
      "image/png": "[encoded data removed]",
      "text/plain": [
       "<matplotlib.figure.Figure at 0x7f7a058012d0>"
      ]
     },
     "metadata": {},
     "output_type": "display_data"
    }
   ],
   "source": [
    "width = 24\n",
    "height = 24\n",
    "plt.figure(figsize=(width, height))\n",
    "\n",
    "batch=0\n",
    "for batch_idx, (data, target) in enumerate(train_loader):\n",
    "    print(data.shape)\n",
    "    batch=data[:10,:,:,:].cpu().numpy()\n",
    "    break\n",
    "print(batch[1].shape)\n",
    "plt.imshow(np.transpose(batch[1], (1, 2, 0)))\n",
    "#plt.imshow(batch[1].reshape(32,32,3))\n",
    "for i in range(10):\n",
    "    plt.subplot(10,5,i+1)\n",
    "    sigma=np.array([0.4914, 0.4822, 0.4465])\n",
    "    mu=np.array([0.2023, 0.1994, 0.2010])\n",
    "    batch[i]=batch[i]*mu[:,None, None] + sigma[:,None, None]\n",
    "    plt.imshow(np.transpose(batch[i], (1, 2, 0)))"
   ]
  },
  {
   "cell_type": "code",
   "execution_count": null,
   "metadata": {
    "collapsed": true
   },
   "outputs": [],
   "source": [
    "import copy\n",
    "Generators=[]\n",
    "\n",
    "\n",
    "for epoch in range(1, epochs + 1):\n",
    "    train(epoch)\n",
    "    Generators.append(copy.deepcopy(model.decode))"
   ]
  },
  {
   "cell_type": "code",
   "execution_count": 49,
   "metadata": {},
   "outputs": [
    {
     "name": "stdout",
     "output_type": "stream",
     "text": [
      "deer\n"
     ]
    },
    {
     "data": {
      "image/png": "[encoded data removed]",
      "text/plain": [
       "<matplotlib.figure.Figure at 0x7f7a102a2f10>"
      ]
     },
     "metadata": {},
     "output_type": "display_data"
    }
   ],
   "source": [
    "#Testing of decoder's copy \n",
    "generator_indice=4\n",
    "dec=Generators[generator_indice]\n",
    "\n",
    "print(classes[generator_indice])\n",
    "\n",
    "\n",
    "width = 24\n",
    "height = 24\n",
    "plt.figure(figsize=(width, height))\n",
    "\n",
    "hidden_vector=torch.randn((10,20))\n",
    "hidden_vector=Variable(hidden_vector.cuda())\n",
    "\n",
    "output=dec(hidden_vector)\n",
    "img=output.data.cpu().numpy().reshape((10,3,32,32))\n",
    "\n",
    "for i in range(10):\n",
    "    plt.subplot(10,5,i+1)\n",
    "    sigma=np.array([0.4914, 0.4822, 0.4465])\n",
    "    mu=np.array([0.2023, 0.1994, 0.2010])\n",
    "    img[i]=img[i]*mu[:,None, None] + sigma[:,None, None]\n",
    "    plt.imshow(np.transpose(img[i], (1, 2, 0)))"
   ]
  },
  {
   "cell_type": "code",
   "execution_count": 46,
   "metadata": {
    "collapsed": true
   },
   "outputs": [],
   "source": [
    "def get_batch_VAE(batch_size, Generators):\n",
    "    #dirty way of gettingrandom integer for Generators selection\n",
    "    gene_indice=(torch.randperm(1000)%10)[0:batch_size]\n",
    "    hidden_vectors=torch.randn((1,20,batch_size))\n",
    "    batch=torch.FloatTensor(batch_size,28,28)\n",
    "    target=torch.LongTensor(batch_size)\n",
    "    for i in range(batch_size):\n",
    "        target[i]=int(gene_indice[i])\n",
    "        gene=Generators[target[i]]\n",
    "        h=Variable(hidden_vectors[:,:,i].cuda())\n",
    "        batch[i]=gene(h).data.cpu()\n",
    "    return batch, target"
   ]
  },
  {
   "cell_type": "code",
   "execution_count": null,
   "metadata": {
    "collapsed": true
   },
   "outputs": [],
   "source": [
    "def train_from_VAE(epoch):\n",
    "    size_epoch=1000\n",
    "    model_classif.train()\n",
    "    train_loss = 0\n",
    "    train_loss_classif = 0\n",
    "\n",
    "    for batch_idx in range(size_epoch):\n",
    "        \n",
    "        data,target=get_batch_VAE(batch_size, Generators)\n",
    "        data = Variable(data)\n",
    "        target = Variable(target)\n",
    "        if cuda:\n",
    "            data = data.cuda()\n",
    "            target = target.cuda()\n",
    "        optimizer.zero_grad()\n",
    "        \n",
    "        # Classif\n",
    "        classif = model_classif(data)\n",
    "        loss_classif = F.nll_loss(classif, target)\n",
    "        loss_classif.backward(retain_variables=True)\n",
    "        train_loss_classif += loss_classif.data[0]\n",
    "\n",
    "        optimizer.step()\n",
    "\n",
    "        if batch_idx % log_interval == 0:\n",
    "            print('Train Epoch: {} [{}/{} ({:.0f}%)]\\tLoss: {:.6f}'.format(\n",
    "                epoch, batch_idx * len(data), size_epoch,\n",
    "                100. * batch_idx / size_epoch,\n",
    "                train_loss_classif / len(data)))\n",
    "    print('====> Epoch: {} Average loss classif: {:.4f}'.format(\n",
    "          epoch, train_loss_classif / size_epoch))"
   ]
  },
  {
   "cell_type": "code",
   "execution_count": null,
   "metadata": {
    "collapsed": true
   },
   "outputs": [],
   "source": [
    "model_classif=Classif()\n",
    "model_classif=model_classif.cuda()\n",
    "optimizer = optim.Adam(model_classif.parameters(), lr=1e-3)\n",
    "\n",
    "for epoch in range(1, epochs + 1):\n",
    "    train_from_VAE(epoch)\n",
    "    test(epoch)"
   ]
  },
  {
   "cell_type": "markdown",
   "metadata": {},
   "source": [
    "# Print sample from the different VAE trained to train the classifieur"
   ]
  },
  {
   "cell_type": "code",
   "execution_count": null,
   "metadata": {
    "collapsed": true
   },
   "outputs": [],
   "source": [
    "width = 24\n",
    "height = 24\n",
    "plt.figure(figsize=(width, height))\n",
    "\n",
    "\n",
    "batch,target=get_batch_VAE(10, Generators)\n",
    "img=batch.numpy().reshape((10,28,28))\n",
    "for i in range(10):\n",
    "    plt.subplot(10,5,i+1)\n",
    "    plt.imshow(img[i])"
   ]
  },
  {
   "cell_type": "markdown",
   "metadata": {},
   "source": [
    "# random sample after training with memories. Only half the sample are memories at the end of training (92%)"
   ]
  },
  {
   "cell_type": "code",
   "execution_count": null,
   "metadata": {
    "collapsed": true
   },
   "outputs": [],
   "source": [
    "width = 24\n",
    "height = 24\n",
    "plt.figure(figsize=(width, height))\n",
    "\n",
    "hidden_vector=torch.randn((10,20))\n",
    "#hidden_vector=torch.ones((10,20))*0.0\n",
    "#hidden_vector[0]=torch.from_numpy(np.array(range(20))*0.05)\n",
    "\n",
    "hidden_vector=Variable(hidden_vector.cuda())\n",
    "classif=model.classif(hidden_vector)\n",
    "\n",
    "output=model.decode(hidden_vector)\n",
    "img=output.data.cpu().numpy().reshape((10,28,28))\n",
    "\n",
    "for i in range(10):\n",
    "    plt.subplot(10,5,i+1)\n",
    "    plt.imshow(img[i])\n",
    "print(classif.data.max(1)[1].cpu().numpy().transpose().reshape(2,5))\n",
    "\n",
    "#print(np.exp(classif.data.cpu().numpy()).transpose())\n",
    "\n",
    "\n",
    "np.set_printoptions(formatter={'float': '{: 0.3f}'.format})\n",
    "print(np.exp(classif.data.cpu().numpy()))"
   ]
  },
  {
   "cell_type": "code",
   "execution_count": null,
   "metadata": {
    "collapsed": true
   },
   "outputs": [],
   "source": []
  },
  {
   "cell_type": "code",
   "execution_count": null,
   "metadata": {
    "collapsed": true
   },
   "outputs": [],
   "source": []
  }
 ],
 "metadata": {
  "kernelspec": {
   "display_name": "Python 2",
   "language": "python",
   "name": "python2"
  },
  "language_info": {
   "codemirror_mode": {
    "name": "ipython",
    "version": 2
   },
   "file_extension": ".py",
   "mimetype": "text/x-python",
   "name": "python",
   "nbconvert_exporter": "python",
   "pygments_lexer": "ipython2",
   "version": "2.7.13"
  }
 },
 "nbformat": 4,
 "nbformat_minor": 2
}
